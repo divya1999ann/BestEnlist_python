{
 "cells": [
  {
   "cell_type": "code",
   "execution_count": 1,
   "metadata": {},
   "outputs": [],
   "source": [
    "import re"
   ]
  },
  {
   "cell_type": "code",
   "execution_count": 40,
   "metadata": {},
   "outputs": [
    {
     "name": "stdout",
     "output_type": "stream",
     "text": [
      "Only lowercase\n"
     ]
    }
   ],
   "source": [
    "#1. Write a Python program for all the cases which can check a string contains only a certain set of characters (in this case a-z, A-Z and 0-9).\n",
    "\n",
    "pt1 = '^[A-Z]*$'\n",
    "pt2 = '^[a-z]*$'\n",
    "pt3 = '^[0-9]*$'\n",
    "\n",
    "s=\"fhf\"\n",
    "\n",
    "if re.search(pt1, s):\n",
    "    print(\"Only uppercase\")\n",
    "elif re.search(pt2, s):\n",
    "    print(\"Only lowercase\")\n",
    "elif re.search(pt3, s):\n",
    "    print(\"Only number\")\n",
    "else:\n",
    "    print(\"Contains mixed set of characters\")"
   ]
  },
  {
   "cell_type": "code",
   "execution_count": 16,
   "metadata": {},
   "outputs": [
    {
     "name": "stdout",
     "output_type": "stream",
     "text": [
      "Match\n"
     ]
    }
   ],
   "source": [
    "#2. Write a Python program that matches a word containing 'ab'.\n",
    "\n",
    "s= \"habjmi\"\n",
    "pattern = '\\w+ab\\w+'\n",
    "if re.search(pattern, s):\n",
    "    print(\"Match\")\n",
    "else:\n",
    "    print(\"No match\")"
   ]
  },
  {
   "cell_type": "code",
   "execution_count": 11,
   "metadata": {},
   "outputs": [
    {
     "name": "stdout",
     "output_type": "stream",
     "text": [
      "Match found\n"
     ]
    }
   ],
   "source": [
    "#3. Write a Python program to check for a number at the end of a word/sentence.\n",
    "s = \"hello hi how are you9\"\n",
    "\n",
    "pattern = '\\w+\\d$'\n",
    "if re.search(pattern, s):\n",
    "    print(\"Match found\")\n",
    "else:\n",
    "    print(\"No match\")"
   ]
  },
  {
   "cell_type": "code",
   "execution_count": 22,
   "metadata": {},
   "outputs": [
    {
     "name": "stdout",
     "output_type": "stream",
     "text": [
      "23\n",
      "65\n",
      "698\n",
      "670\n",
      "9\n"
     ]
    }
   ],
   "source": [
    "#4. Write a Python program to search the numbers (0-9) of length between 1 to 3 in a given string\n",
    "\n",
    "s = 'Hello 23, how 65 doung what is 698 doing at 6709'\n",
    "\n",
    "pattern = '([0-9]{1,3})'\n",
    "\n",
    "if re.search(pattern, s):\n",
    "    res = re.finditer(pattern,s)\n",
    "    for i in res:\n",
    "        print(i.group(0))\n",
    "else:\n",
    "    print(\"nothing\")"
   ]
  },
  {
   "cell_type": "code",
   "execution_count": 35,
   "metadata": {},
   "outputs": [
    {
     "name": "stdout",
     "output_type": "stream",
     "text": [
      "Match\n"
     ]
    }
   ],
   "source": [
    "#5. Write a Python program to match a string that contains only uppercase letters\n",
    "s= \"ABCDE\"\n",
    "s1 = \"abFc\"\n",
    "pattern = \"^[A-Z]+$\"\n",
    "\n",
    "if re.search(pattern,s):\n",
    "    print(\"Match\")\n",
    "else:\n",
    "    print(\"No match\")"
   ]
  },
  {
   "cell_type": "code",
   "execution_count": null,
   "metadata": {},
   "outputs": [],
   "source": []
  },
  {
   "cell_type": "code",
   "execution_count": null,
   "metadata": {},
   "outputs": [],
   "source": []
  }
 ],
 "metadata": {
  "kernelspec": {
   "display_name": "Python 3",
   "language": "python",
   "name": "python3"
  },
  "language_info": {
   "codemirror_mode": {
    "name": "ipython",
    "version": 3
   },
   "file_extension": ".py",
   "mimetype": "text/x-python",
   "name": "python",
   "nbconvert_exporter": "python",
   "pygments_lexer": "ipython3",
   "version": "3.8.6"
  }
 },
 "nbformat": 4,
 "nbformat_minor": 4
}
