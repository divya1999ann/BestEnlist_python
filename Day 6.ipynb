{
 "cells": [
  {
   "cell_type": "code",
   "execution_count": 1,
   "metadata": {},
   "outputs": [
    {
     "name": "stdout",
     "output_type": "stream",
     "text": [
      "[12, 22, 32, 42]\n"
     ]
    }
   ],
   "source": [
    "#Write a program to loop through a list of numbers and add +2 to every value to elements in list\n",
    "l =[10,20,30,40]\n",
    "\n",
    "for i in range(len(l)):\n",
    "    l[i] +=2\n",
    "print(l)"
   ]
  },
  {
   "cell_type": "code",
   "execution_count": 6,
   "metadata": {},
   "outputs": [
    {
     "name": "stdout",
     "output_type": "stream",
     "text": [
      "5\n",
      "54321\n",
      "4321\n",
      "321\n",
      "21\n",
      "1\n"
     ]
    }
   ],
   "source": [
    "'''Write a program to get the below pattern\n",
    "54321\n",
    "4321\n",
    "321\n",
    "21\n",
    "1'''\n",
    "\n",
    "n = int(input())\n",
    "\n",
    "for i in range(n,0,-1):\n",
    "    for j in range(i,0,-1):\n",
    "        print(j, end='')\n",
    "    print()\n",
    "    \n",
    "    "
   ]
  },
  {
   "cell_type": "code",
   "execution_count": 9,
   "metadata": {},
   "outputs": [
    {
     "name": "stdout",
     "output_type": "stream",
     "text": [
      "5\n",
      "0 1 1 2 3 "
     ]
    }
   ],
   "source": [
    "#Python Program to Print the Fibonacci sequence\n",
    "a,b=0,1\n",
    "\n",
    "n = int(input())\n",
    "if n==1:\n",
    "    print(a)\n",
    "elif n==2:\n",
    "    print(a,end=' ')\n",
    "    print(b)\n",
    "else:\n",
    "    print(a,end=' ')\n",
    "    print(b, end=' ')\n",
    "    while (n-2)!=0:\n",
    "        s=a+b\n",
    "        a=b\n",
    "        b=s\n",
    "        print(s, end=' ')\n",
    "        n-=1\n",
    "        "
   ]
  },
  {
   "cell_type": "code",
   "execution_count": 15,
   "metadata": {},
   "outputs": [
    {
     "name": "stdout",
     "output_type": "stream",
     "text": [
      "Enter a number153\n",
      "Amstrong number\n"
     ]
    }
   ],
   "source": [
    "#Explain Armstrong number and write a code with a function\n",
    "#Armstrong number - Number which is same the number formed by taking the sum of indivdual digits raise to the total no of digits\n",
    "#eg : 153 = 1^3+5^3+3^3 = 3+125+9 = 153\n",
    "\n",
    "\n",
    "def armstrong(n):\n",
    "    p=n\n",
    "    c=0\n",
    "    s=0\n",
    "    while p!=0:\n",
    "        c+=1\n",
    "        p=p//10\n",
    "    p=n\n",
    "    while p!=0:\n",
    "        d=p%10\n",
    "        s+=d**c\n",
    "        p=p//10\n",
    "        \n",
    "    if s==n:\n",
    "        print(\"Amstrong number\")\n",
    "    else:\n",
    "        print(\"Not armstrong\")\n",
    "\n",
    "\n",
    "x = int(input(\"Enter a number\"))\n",
    "armstrong(x)"
   ]
  },
  {
   "cell_type": "code",
   "execution_count": 18,
   "metadata": {},
   "outputs": [
    {
     "name": "stdout",
     "output_type": "stream",
     "text": [
      "9 * 1 = 9\n",
      "9 * 2 = 18\n",
      "9 * 3 = 27\n",
      "9 * 4 = 36\n",
      "9 * 5 = 45\n",
      "9 * 6 = 54\n",
      "9 * 7 = 63\n",
      "9 * 8 = 72\n",
      "9 * 9 = 81\n",
      "9 * 10 = 90\n"
     ]
    }
   ],
   "source": [
    "#Write a program to print the multiplication table of 9\n",
    "\n",
    "\n",
    "n = 9\n",
    "i=1\n",
    "while i <= 10:\n",
    "    print(\"9 * \"+str(i)+\" = \"+ str(i*9))\n",
    "    i+=1"
   ]
  },
  {
   "cell_type": "code",
   "execution_count": 19,
   "metadata": {},
   "outputs": [
    {
     "name": "stdout",
     "output_type": "stream",
     "text": [
      "-8\n",
      "negative\n"
     ]
    }
   ],
   "source": [
    "#Check if a program is negative or positive\n",
    "\n",
    "n= int(input())\n",
    "if n<0:\n",
    "    print(\"negative\")\n",
    "else:\n",
    "    print(\"Positive\")"
   ]
  },
  {
   "cell_type": "code",
   "execution_count": 25,
   "metadata": {},
   "outputs": [
    {
     "name": "stdout",
     "output_type": "stream",
     "text": [
      "365\n",
      "No of years = 1\n",
      "No of days = 0\n"
     ]
    }
   ],
   "source": [
    "#Write a program to convert the number of days to ages\n",
    "\n",
    "n = int(input())\n",
    "print(\"No of years = \" + str(n//365))\n",
    "print(\"No of days = \"+str(n%365))"
   ]
  },
  {
   "cell_type": "code",
   "execution_count": 28,
   "metadata": {},
   "outputs": [
    {
     "name": "stdout",
     "output_type": "stream",
     "text": [
      "0.7457052121767203\n",
      "0.28366218546322625\n",
      "0.6483608274590866\n"
     ]
    }
   ],
   "source": [
    "#Solve Trigonometry problem using math function write a program to solve using math function\n",
    "import math\n",
    "\n",
    "print(math.sin(2.3))\n",
    "print(math.cos(5))\n",
    "print(math.tan(10))"
   ]
  },
  {
   "cell_type": "code",
   "execution_count": 24,
   "metadata": {},
   "outputs": [
    {
     "name": "stdout",
     "output_type": "stream",
     "text": [
      "Which operation do u want to perform (+,-,*,/)*\n",
      "Enter first number : 5\n",
      "Enter second number : 4\n",
      "Multiplication = 20\n"
     ]
    }
   ],
   "source": [
    "#Create a calculator only on a code level by using if condition (Basic arithmetic calculation\n",
    "\n",
    "x = input(\"Which operation do u want to perform (+,-,*,/)\")\n",
    "a=int(input(\"Enter first number : \"))\n",
    "b = int(input(\"Enter second number : \"))\n",
    "\n",
    "if x=='+':\n",
    "    print(\"Addition = \"+str(a+b))\n",
    "elif x=='-':\n",
    "    print(\"Substraction = \"+str(a-b))\n",
    "elif x=='*':\n",
    "    print(\"Multiplication = \"+str(a*b))\n",
    "elif x=='/':\n",
    "    print(\"Division = \"+str(a/b))\n",
    "else:\n",
    "    print(\"MATH ERROR\")\n",
    "    \n",
    "\n",
    "    "
   ]
  },
  {
   "cell_type": "code",
   "execution_count": null,
   "metadata": {},
   "outputs": [],
   "source": []
  }
 ],
 "metadata": {
  "kernelspec": {
   "display_name": "Python 3",
   "language": "python",
   "name": "python3"
  },
  "language_info": {
   "codemirror_mode": {
    "name": "ipython",
    "version": 3
   },
   "file_extension": ".py",
   "mimetype": "text/x-python",
   "name": "python",
   "nbconvert_exporter": "python",
   "pygments_lexer": "ipython3",
   "version": "3.8.6"
  }
 },
 "nbformat": 4,
 "nbformat_minor": 4
}
