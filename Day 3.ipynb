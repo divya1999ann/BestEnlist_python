{
 "cells": [
  {
   "cell_type": "markdown",
   "metadata": {},
   "source": [
    "## Excercises"
   ]
  },
  {
   "cell_type": "code",
   "execution_count": 2,
   "metadata": {},
   "outputs": [
    {
     "name": "stdout",
     "output_type": "stream",
     "text": [
      "{'Maharashtra': 'Mumbai', 'Telangana': 'Hyderabad', 'Tamilnadu': 'Chennai', 'Karnataka': 'Bengaluru', 'Bihar': 'Patna', 1: 'hi', 2: 'hello'}\n"
     ]
    }
   ],
   "source": [
    "#Write a Python script to merge two Python dictionaries\n",
    "capitals={\"Maharashtra\":\"Mumbai\", \n",
    "           \"Telangana\":\"Hyderabad\", \n",
    "           \"Tamilnadu\":\"Chennai\", \n",
    "           \"Karnataka\":\"Bengaluru\", \n",
    "           \"Bihar\":\"Patna\"}\n",
    "dict2 = {1:'hi', 2:'hello'}\n",
    "capitals.update(dict2)\n",
    "print(capitals)"
   ]
  },
  {
   "cell_type": "code",
   "execution_count": 3,
   "metadata": {},
   "outputs": [
    {
     "name": "stdout",
     "output_type": "stream",
     "text": [
      "{'Maharashtra': 'Mumbai', 'Telangana': 'Hyderabad', 'Karnataka': 'Bengaluru', 'Bihar': 'Patna'}\n"
     ]
    }
   ],
   "source": [
    "#Write a Python program to remove a key from a dictionary\n",
    "capitals={\"Maharashtra\":\"Mumbai\", \n",
    "           \"Telangana\":\"Hyderabad\", \n",
    "           \"Tamilnadu\":\"Chennai\", \n",
    "           \"Karnataka\":\"Bengaluru\", \n",
    "           \"Bihar\":\"Patna\"}\n",
    "del capitals['Tamilnadu']\n",
    "print(capitals)"
   ]
  },
  {
   "cell_type": "code",
   "execution_count": 4,
   "metadata": {},
   "outputs": [
    {
     "name": "stdout",
     "output_type": "stream",
     "text": [
      "{1: 'dhoni', 2: 'bravo', 3: 'jadeja'}\n"
     ]
    }
   ],
   "source": [
    "#Write a Python program to map two lists into a dictionary\n",
    "l1 = [1,2,3]\n",
    "l2 = [\"dhoni\", \"bravo\", \"jadeja\"]\n",
    "d = dict()\n",
    "for i in range(len(l1)):\n",
    "    d[l1[i]] = l2[i]\n",
    "print(d)"
   ]
  },
  {
   "cell_type": "code",
   "execution_count": 5,
   "metadata": {},
   "outputs": [
    {
     "name": "stdout",
     "output_type": "stream",
     "text": [
      "3\n"
     ]
    }
   ],
   "source": [
    "#Write a Python program to find the length of a set\n",
    "set1 = {\"dhoni\", \"bravo\", \"jadeja\"}\n",
    "print(len(set1))"
   ]
  },
  {
   "cell_type": "code",
   "execution_count": 1,
   "metadata": {},
   "outputs": [
    {
     "name": "stdout",
     "output_type": "stream",
     "text": [
      "['hemant', 'hi', 'world']\n"
     ]
    }
   ],
   "source": [
    "#Write a Python program to remove the intersection of a 2nd set from the 1st set\n",
    "l1 = [\"dhoni\", \"bravo\", \"jadeja\"]\n",
    "l2 = ['hemant', 'hi', 'bravo','world']\n",
    "for i in l1:\n",
    "    if i in l2:\n",
    "        l2.remove(i)\n",
    "        exit()\n",
    "print(l2)"
   ]
  },
  {
   "cell_type": "code",
   "execution_count": null,
   "metadata": {},
   "outputs": [],
   "source": []
  }
 ],
 "metadata": {
  "kernelspec": {
   "display_name": "Python 3",
   "language": "python",
   "name": "python3"
  },
  "language_info": {
   "codemirror_mode": {
    "name": "ipython",
    "version": 3
   },
   "file_extension": ".py",
   "mimetype": "text/x-python",
   "name": "python",
   "nbconvert_exporter": "python",
   "pygments_lexer": "ipython3",
   "version": "3.8.6"
  }
 },
 "nbformat": 4,
 "nbformat_minor": 4
}
