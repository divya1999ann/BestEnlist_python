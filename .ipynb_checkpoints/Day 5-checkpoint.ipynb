{
 "cells": [
  {
   "cell_type": "code",
   "execution_count": 2,
   "metadata": {},
   "outputs": [],
   "source": [
    "#Create a function getting two integer inputs from user. & print the following:\n",
    "\n",
    "#Addition of two numbers is +value\n",
    "#Subtraction of two numbers is +value\n",
    "#Division of two numbers is +value\n",
    "#Multiplication of two numbers is +value"
   ]
  },
  {
   "cell_type": "code",
   "execution_count": 4,
   "metadata": {},
   "outputs": [
    {
     "name": "stdout",
     "output_type": "stream",
     "text": [
      "4\n",
      "3\n",
      "Addition of two number is 7\n",
      "Substrcation of two numbers 1\n",
      "Multiplication of two numbers 12\n",
      "Division of two numbers 1\n"
     ]
    }
   ],
   "source": [
    "def func(x,y):\n",
    "    print(\"Addition of two number is \"+ str(x+y))\n",
    "    print(\"Substrcation of two numbers \"+str(x-y))\n",
    "    print(\"Multiplication of two numbers \"+str(x*y))\n",
    "    print(\"Division of two numbers \"+str(x//y))\n",
    "\n",
    "    \n",
    "a = int(input())\n",
    "b = int(input())\n",
    "func(a,b)"
   ]
  },
  {
   "cell_type": "code",
   "execution_count": 7,
   "metadata": {},
   "outputs": [
    {
     "name": "stdout",
     "output_type": "stream",
     "text": [
      "Enter patient nameDiya\n",
      "Enter body temperature45\n",
      "Diya does not have Covid\n"
     ]
    }
   ],
   "source": [
    "#2\n",
    "def covid(name, temp=98):\n",
    "    if temp > 98:\n",
    "        print(name + \" has Covid\")\n",
    "    else:\n",
    "        print(name + \" does not have Covid\")\n",
    "        \n",
    "n = input(\"Enter patient name\")\n",
    "temp = int(input(\"Enter body temperature\"))\n",
    "covid(n, temp)"
   ]
  },
  {
   "cell_type": "code",
   "execution_count": null,
   "metadata": {},
   "outputs": [],
   "source": []
  }
 ],
 "metadata": {
  "kernelspec": {
   "display_name": "Python 3",
   "language": "python",
   "name": "python3"
  },
  "language_info": {
   "codemirror_mode": {
    "name": "ipython",
    "version": 3
   },
   "file_extension": ".py",
   "mimetype": "text/x-python",
   "name": "python",
   "nbconvert_exporter": "python",
   "pygments_lexer": "ipython3",
   "version": "3.8.6"
  }
 },
 "nbformat": 4,
 "nbformat_minor": 4
}
